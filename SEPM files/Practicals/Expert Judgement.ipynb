{
 "cells": [
  {
   "cell_type": "raw",
   "id": "95b120b0",
   "metadata": {},
   "source": [
    "Some Estimation Methods\n",
    "-----------------------------------------------\n",
    "Brook's Equation: Rarely used \n",
    "\n",
    "COCOMO: based on lines of code and also rarely used \n",
    "\n",
    "Function Point: based on use cases. Estimates can be done earlier in the project.\n",
    "\n",
    "Expert Judgement: similar to function point\n",
    "-----------------------------------------------    "
   ]
  },
  {
   "cell_type": "markdown",
   "id": "fe10acf0",
   "metadata": {},
   "source": [
    "Expert Judgement Estimation Method\n",
    "--------------------------------------------------------"
   ]
  },
  {
   "cell_type": "markdown",
   "id": "b474fa2f",
   "metadata": {},
   "source": [
    "UUCP = UUCW + UAW   \n",
    "\n",
    "(Unadjusted Use Case Point = Unadjusted Use Case Weight + Unadjusted Actor Weight) \n",
    "\n",
    "----------------------------------------------------------------------------"
   ]
  },
  {
   "cell_type": "code",
   "execution_count": 3,
   "id": "a9b04eef",
   "metadata": {},
   "outputs": [
    {
     "name": "stdout",
     "output_type": "stream",
     "text": [
      "Requirement already satisfied: tabulate in c:\\users\\kike\\anaconda3\\lib\\site-packages (0.8.9)\n",
      "Note: you may need to restart the kernel to use updated packages.\n"
     ]
    }
   ],
   "source": [
    "pip install tabulate\n"
   ]
  },
  {
   "cell_type": "code",
   "execution_count": 4,
   "id": "becbf1eb",
   "metadata": {},
   "outputs": [],
   "source": [
    "from tabulate import tabulate"
   ]
  },
  {
   "cell_type": "markdown",
   "id": "78b000b8",
   "metadata": {},
   "source": [
    "Calculating UUCW - Unadjusted Use Case Weight \n",
    "\n",
    "----------------------------------------------------------------------"
   ]
  },
  {
   "cell_type": "code",
   "execution_count": 5,
   "id": "9123f192",
   "metadata": {},
   "outputs": [],
   "source": [
    "uucw_table = [['Use Case Complexity', 'Weight', 'Number of Use Cases', 'Product'], ['Simple', 5, 4, 20], ['Average', 10, 2, 20], ['Complex', 0, 0, 0], ['Total','', '',  40]]"
   ]
  },
  {
   "cell_type": "code",
   "execution_count": 6,
   "id": "ed0fab5d",
   "metadata": {},
   "outputs": [
    {
     "name": "stdout",
     "output_type": "stream",
     "text": [
      "╒═══════════════════════╤══════════╤═══════════════════════╤═══════════╕\n",
      "│ Use Case Complexity   │ Weight   │ Number of Use Cases   │   Product │\n",
      "╞═══════════════════════╪══════════╪═══════════════════════╪═══════════╡\n",
      "│ Simple                │ 5        │ 4                     │        20 │\n",
      "├───────────────────────┼──────────┼───────────────────────┼───────────┤\n",
      "│ Average               │ 10       │ 2                     │        20 │\n",
      "├───────────────────────┼──────────┼───────────────────────┼───────────┤\n",
      "│ Complex               │ 0        │ 0                     │         0 │\n",
      "├───────────────────────┼──────────┼───────────────────────┼───────────┤\n",
      "│ Total                 │          │                       │        40 │\n",
      "╘═══════════════════════╧══════════╧═══════════════════════╧═══════════╛\n"
     ]
    }
   ],
   "source": [
    "print(tabulate(uucw_table, headers='firstrow', tablefmt = 'fancy_grid'))"
   ]
  },
  {
   "cell_type": "code",
   "execution_count": 7,
   "id": "9154e55b",
   "metadata": {},
   "outputs": [
    {
     "name": "stdout",
     "output_type": "stream",
     "text": [
      "-------------------------------------------\n",
      "Unadjusted Weight for Simple Use Cases= 20\n",
      "Unadjusted Weight for Average Use Cases = 20\n",
      "============================================\n",
      "Total Unadjusted Use Case Weight = 40\n",
      "============================================\n"
     ]
    }
   ],
   "source": [
    "\n",
    "class ExpertJudgement(object):\n",
    "    pass\n",
    "\n",
    "class UnadjustedUseCaseWeight():\n",
    "\n",
    "    global total_UUCW\n",
    "    total_UUCW = 0\n",
    "\n",
    "    def __init__(self, suc, auc, cuc):\n",
    "        self.suc = suc\n",
    "        self.auc = auc\n",
    "        self.cuc = cuc\n",
    "\n",
    "    def use_cases(self):\n",
    "        print(\"-------------------------------------------\")\n",
    "        if self.suc >= 1:\n",
    "            UnadjustedUseCaseWeight.s_use_case_weight(self.suc)\n",
    "        if self.auc >= 1:\n",
    "            UnadjustedUseCaseWeight.a_use_case_weight(self.auc)\n",
    "        if self.cuc >= 1:\n",
    "            UnadjustedUseCaseWeight.c_use_case_weight(self.cuc)\n",
    "        UnadjustedUseCaseWeight.total_value()\n",
    "\n",
    "    def s_use_case_weight(x):\n",
    "        global total_UUCW\n",
    "        product = x * 5\n",
    "        print(\"Unadjusted Weight for Simple Use Cases= {}\".format(product))\n",
    "        total_UUCW += product\n",
    "\n",
    "    def a_use_case_weight(y):\n",
    "        global total_UUCW\n",
    "        product = y * 10\n",
    "        print(\"Unadjusted Weight for Average Use Cases = {}\".format(product))\n",
    "        total_UUCW += product\n",
    "\n",
    "    def c_use_case_weight(z):\n",
    "        global total_UUCW\n",
    "        product = z * 15\n",
    "        print(\"Unadjusted Weight for Complex Use Cases= {}\".format(product))\n",
    "        total_UUCW += product\n",
    "\n",
    "    def total_value():\n",
    "        print(\"============================================\")\n",
    "        print(\"Total Unadjusted Use Case Weight = {}\".format(total_UUCW))\n",
    "        print(\"============================================\")\n",
    "\n",
    "\n",
    "uc1 = UnadjustedUseCaseWeight(4, 2, 0)\n",
    "uc1.use_cases()"
   ]
  },
  {
   "cell_type": "markdown",
   "id": "42e1ef7e",
   "metadata": {},
   "source": [
    "Calculating UAW - Unadjusted Actor Weight \n",
    "\n",
    "----------------------------------------------------------------------"
   ]
  },
  {
   "cell_type": "code",
   "execution_count": 31,
   "id": "c9653d34",
   "metadata": {},
   "outputs": [],
   "source": [
    "acw_table = [['Actor Type', 'Weight', 'Number of Actors', 'Product'], ['Complex', '3', '2', '6']]"
   ]
  },
  {
   "cell_type": "code",
   "execution_count": 33,
   "id": "e0ec0316",
   "metadata": {},
   "outputs": [
    {
     "name": "stdout",
     "output_type": "stream",
     "text": [
      "╒══════════════╤══════════╤════════════════════╤═══════════╕\n",
      "│ Actor Type   │   Weight │   Number of Actors │   Product │\n",
      "╞══════════════╪══════════╪════════════════════╪═══════════╡\n",
      "│ Complex      │        3 │                  2 │         6 │\n",
      "╘══════════════╧══════════╧════════════════════╧═══════════╛\n"
     ]
    }
   ],
   "source": [
    "print(tabulate(acw_table, headers = 'firstrow', tablefmt = 'fancy_grid'))"
   ]
  },
  {
   "cell_type": "code",
   "execution_count": 8,
   "id": "a611ab4e",
   "metadata": {},
   "outputs": [
    {
     "name": "stdout",
     "output_type": "stream",
     "text": [
      "-------------------------------------------\n",
      "Unadjusted Weight for Complex Actors= 6\n",
      "============================================\n",
      "Total Unadjusted Actor Weight = 6\n",
      "============================================\n"
     ]
    }
   ],
   "source": [
    "\n",
    "class UnadjustedActorWeight():\n",
    "\n",
    "    global total_ACW\n",
    "    total_ACW = 0\n",
    "\n",
    "    def __init__(self, sa, aa, ca):\n",
    "        self.sa = sa\n",
    "        self.aa = aa\n",
    "        self.ca = ca\n",
    "\n",
    "    def actors(self):\n",
    "        print(\"-------------------------------------------\")\n",
    "        if self.sa >= 1:\n",
    "            UnadjustedActorWeight.s_actor_weight(self.sa)\n",
    "        if self.aa >= 1:\n",
    "            UnadjustedActorWeight.a_actor_weight(self.aa)\n",
    "        if self.ca >= 1:\n",
    "            UnadjustedActorWeight.c_actor_weight(self.ca)\n",
    "        UnadjustedActorWeight.total_actor_weight()\n",
    "\n",
    "    def s_actor_weight(x):\n",
    "        global total_ACW\n",
    "        actor_product = x * 1\n",
    "        print(\"Unadjusted Weight for Simple Actors= {}\".format(actor_product))\n",
    "        total_ACW += actor_product\n",
    "\n",
    "    def a_actor_weight(y):\n",
    "        global total_ACW\n",
    "        actor_product = y * 2\n",
    "        print(\"Unadjusted Weight for Average Actors = {}\".format(actor_product))\n",
    "        total_ACW += actor_product\n",
    "\n",
    "    def c_actor_weight(z):\n",
    "        global total_ACW\n",
    "        actor_product = z * 3\n",
    "        print(\"Unadjusted Weight for Complex Actors= {}\".format(actor_product))\n",
    "        total_ACW += actor_product\n",
    "\n",
    "    def total_actor_weight():\n",
    "        print(\"============================================\")\n",
    "        print(\"Total Unadjusted Actor Weight = {}\".format(total_ACW))\n",
    "        print(\"============================================\")\n",
    "\n",
    "\n",
    "ac1 = UnadjustedActorWeight(0, 0, 2)\n",
    "ac1.actors()"
   ]
  },
  {
   "cell_type": "code",
   "execution_count": null,
   "id": "62840a5f",
   "metadata": {},
   "outputs": [],
   "source": [
    "Unadjested Use Case Points (UUCP) = Unadjusted Use Case Weight + Unadjusted Actor Weight"
   ]
  },
  {
   "cell_type": "markdown",
   "id": "5d28fbbd",
   "metadata": {},
   "source": [
    "UUCP = 40 + 6 = 46\n",
    "\n",
    "---------------------------------------------------------------"
   ]
  },
  {
   "cell_type": "raw",
   "id": "fa9b526f",
   "metadata": {},
   "source": [
    "Adjustment with Technical Complexity (TF)\n",
    "----------------------------------------------------------"
   ]
  },
  {
   "cell_type": "markdown",
   "id": "16b8c6b9",
   "metadata": {},
   "source": [
    "TCF = 0.6 + (0.01 * TFactor)"
   ]
  },
  {
   "cell_type": "code",
   "execution_count": 9,
   "id": "28fbe46e",
   "metadata": {},
   "outputs": [],
   "source": [
    "tf_table = [['Factor', 'Weight', 'Assessment', 'Impact'], ['Distributed Sys', '2', '0', '0'], ['Performance Obj', '2', '3', '6'], ['End-user efficiency', 1, 3, 3], ['Complex processing', '1', '0', '0'], ['Reusable code', '1', '0', '0'], ['Easy to Install', '0.5', '5', '2.5'], ['Easy to Use', '0.5', '5', '2.5'], ['Portable', '2', '2', '4'], ['Easy to Change', '1', '5', '5'], ['Concurrent use', '1', '5', '5'], ['Security', '1', '5', '5'], ['Access for third parties', '1', '0', '0'], ['Training needs', '1', '0', '0'], ['Total TFactor', '', '', '33'] ]"
   ]
  },
  {
   "cell_type": "code",
   "execution_count": 10,
   "id": "ebe94dd6",
   "metadata": {
    "scrolled": true
   },
   "outputs": [
    {
     "name": "stdout",
     "output_type": "stream",
     "text": [
      "╒══════════════════════════╤══════════╤══════════════╤══════════╕\n",
      "│ Factor                   │ Weight   │ Assessment   │   Impact │\n",
      "╞══════════════════════════╪══════════╪══════════════╪══════════╡\n",
      "│ Distributed Sys          │ 2        │ 0            │      0   │\n",
      "├──────────────────────────┼──────────┼──────────────┼──────────┤\n",
      "│ Performance Obj          │ 2        │ 3            │      6   │\n",
      "├──────────────────────────┼──────────┼──────────────┼──────────┤\n",
      "│ End-user efficiency      │ 1        │ 3            │      3   │\n",
      "├──────────────────────────┼──────────┼──────────────┼──────────┤\n",
      "│ Complex processing       │ 1        │ 0            │      0   │\n",
      "├──────────────────────────┼──────────┼──────────────┼──────────┤\n",
      "│ Reusable code            │ 1        │ 0            │      0   │\n",
      "├──────────────────────────┼──────────┼──────────────┼──────────┤\n",
      "│ Easy to Install          │ 0.5      │ 5            │      2.5 │\n",
      "├──────────────────────────┼──────────┼──────────────┼──────────┤\n",
      "│ Easy to Use              │ 0.5      │ 5            │      2.5 │\n",
      "├──────────────────────────┼──────────┼──────────────┼──────────┤\n",
      "│ Portable                 │ 2        │ 2            │      4   │\n",
      "├──────────────────────────┼──────────┼──────────────┼──────────┤\n",
      "│ Easy to Change           │ 1        │ 5            │      5   │\n",
      "├──────────────────────────┼──────────┼──────────────┼──────────┤\n",
      "│ Concurrent use           │ 1        │ 5            │      5   │\n",
      "├──────────────────────────┼──────────┼──────────────┼──────────┤\n",
      "│ Security                 │ 1        │ 5            │      5   │\n",
      "├──────────────────────────┼──────────┼──────────────┼──────────┤\n",
      "│ Access for third parties │ 1        │ 0            │      0   │\n",
      "├──────────────────────────┼──────────┼──────────────┼──────────┤\n",
      "│ Training needs           │ 1        │ 0            │      0   │\n",
      "├──────────────────────────┼──────────┼──────────────┼──────────┤\n",
      "│ Total TFactor            │          │              │     33   │\n",
      "╘══════════════════════════╧══════════╧══════════════╧══════════╛\n"
     ]
    }
   ],
   "source": [
    "print(tabulate(tf_table, headers = 'firstrow', tablefmt = 'fancy_grid'))"
   ]
  },
  {
   "cell_type": "code",
   "execution_count": 16,
   "id": "3cb57955",
   "metadata": {},
   "outputs": [
    {
     "name": "stdout",
     "output_type": "stream",
     "text": [
      "-------------------------------------------\n",
      "TFactor for performance = 6\n",
      "TFactor for end-user efficiency = 3\n",
      "TFactor for easy to install = 2.5\n",
      "TFactor for easy to use = 2.5\n",
      "TFactor for portable = 4\n",
      "TFactor for easy to change = 5\n",
      "TFactor for concurrent use = 5\n",
      "TFactor for security = 5\n",
      "============================================\n",
      "Total TFactor = 33.0\n",
      "============================================\n",
      "TCF = 0.6 + (0.01 * 33) = 0.93\n"
     ]
    }
   ],
   "source": [
    "class TechnicalComplexityFactor():\n",
    "\n",
    "    global total_TF\n",
    "    total_TF = 0\n",
    "\n",
    "    def __init__(self, dss, pfo, eue, cpp, ruc, eti, etu, por, etc, ccu, sec, atp, trn):\n",
    "        self.dss = dss\n",
    "        self.pfo = pfo\n",
    "        self.eue = eue\n",
    "        self.cpp = cpp\n",
    "        self.ruc = ruc\n",
    "        self.eti = eti\n",
    "        self.etu = etu\n",
    "        self.por = por\n",
    "        self.etc = etc\n",
    "        self.ccu = ccu\n",
    "        self.sec = sec\n",
    "        self.atp = atp\n",
    "        self.trn = trn\n",
    "\n",
    "    def technical_factors(self):\n",
    "        print(\"-------------------------------------------\")\n",
    "        if self.dss >= 1:\n",
    "            TechnicalComplexityFactor.dss_tfactor(self.dss)\n",
    "        if self.pfo >= 1:\n",
    "            TechnicalComplexityFactor.pfo_tfactor(self.pfo)\n",
    "        if self.eue >= 1:\n",
    "            TechnicalComplexityFactor.eue_tfactor(self.eue)\n",
    "        if self.cpp >= 1:\n",
    "            TechnicalComplexityFactor.cpp_tfactor(self.cpp)\n",
    "        if self.ruc >= 1:\n",
    "            TechnicalComplexityFactor.ruc_tfactor(self.ruc)\n",
    "        if self.eti >= 1:\n",
    "            TechnicalComplexityFactor.eti_tfactor(self.eti)\n",
    "        if self.etu >= 1:\n",
    "            TechnicalComplexityFactor.etu_tfactor(self.etu)\n",
    "        if self.por >= 1:\n",
    "            TechnicalComplexityFactor.por_tfactor(self.por)\n",
    "        if self.etc >= 1:\n",
    "            TechnicalComplexityFactor.etc_tfactor(self.etc)\n",
    "        if self.ccu >= 1:\n",
    "            TechnicalComplexityFactor.ccu_tfactor(self.ccu)\n",
    "        if self.sec >= 1:\n",
    "            TechnicalComplexityFactor.sec_tfactor(self.sec)\n",
    "        if self.atp >= 1:\n",
    "            TechnicalComplexityFactor.atp_tfactor(self.atp)\n",
    "        if self.trn >= 1:\n",
    "            TechnicalComplexityFactor.trn_tfactor(self.trn)\n",
    "        TechnicalComplexityFactor.total_tfactor()\n",
    "\n",
    "    def dss_tfactor(a):\n",
    "        global total_TF\n",
    "        impact = a * 2\n",
    "        print(\"TFactor for distributed systems= {}\".format(impact))\n",
    "        total_TF += impact\n",
    "\n",
    "    def pfo_tfactor(b):\n",
    "        global total_TF\n",
    "        impact = b * 2\n",
    "        print(\"TFactor for performance = {}\".format(impact))\n",
    "        total_TF += impact\n",
    "\n",
    "    def eue_tfactor(c):\n",
    "        global total_TF\n",
    "        impact = c * 1\n",
    "        print(\"TFactor for end-user efficiency = {}\".format(impact))\n",
    "        total_TF += impact\n",
    "        \n",
    "    def cpp_tfactor(d):\n",
    "        global total_TF\n",
    "        impact = d * 1\n",
    "        print(\"TFactor for complex processing = {}\".format(impact))\n",
    "        total_TF += impact\n",
    "        \n",
    "    def ruc_tfactor(e):\n",
    "        global total_TF\n",
    "        impact = e * 1\n",
    "        print(\"TFactor for reusable code = {}\".format(impact))\n",
    "        total_TF += impact\n",
    "        \n",
    "    def eti_tfactor(f):\n",
    "        global total_TF\n",
    "        impact = f * 0.5\n",
    "        print(\"TFactor for easy to install = {}\".format(impact))\n",
    "        total_TF += impact\n",
    "        \n",
    "    def etu_tfactor(g):\n",
    "        global total_TF\n",
    "        impact = g * 0.5\n",
    "        print(\"TFactor for easy to use = {}\".format(impact))\n",
    "        total_TF += impact\n",
    "        \n",
    "    def por_tfactor(h):\n",
    "        global total_TF\n",
    "        impact = h * 2\n",
    "        print(\"TFactor for portable = {}\".format(impact))\n",
    "        total_TF += impact\n",
    "        \n",
    "    def etc_tfactor(i):\n",
    "        global total_TF\n",
    "        impact = i * 1\n",
    "        print(\"TFactor for easy to change = {}\".format(impact))\n",
    "        total_TF += impact\n",
    "        \n",
    "    def ccu_tfactor(j):\n",
    "        global total_TF\n",
    "        impact = j * 1\n",
    "        print(\"TFactor for concurrent use = {}\".format(impact))\n",
    "        total_TF += impact\n",
    "        \n",
    "    def sec_tfactor(k):\n",
    "        global total_TF\n",
    "        impact = k * 1\n",
    "        print(\"TFactor for security = {}\".format(impact))\n",
    "        total_TF += impact\n",
    "        \n",
    "    def atp_tfactor(l):\n",
    "        global total_TF\n",
    "        impact = l * 1\n",
    "        print(\"TFactor for access to third parties = {}\".format(impact))\n",
    "        total_TF += impact\n",
    "        \n",
    "    def trn_tfactor(m):\n",
    "        global total_TF\n",
    "        impact = m * 1\n",
    "        print(\"TFactor for training = {}\".format(impact))\n",
    "        total_TF += impact\n",
    "   \n",
    "\n",
    "    def total_tfactor():\n",
    "        print(\"============================================\")\n",
    "        print(\"Total TFactor = {}\".format(total_TF))\n",
    "        print(\"============================================\")\n",
    "        print(\"TCF = 0.6 + (0.01 * 33) = {}\".format(round(0.6+(0.01*total_TF), 2)))\n",
    "        \n",
    "        \n",
    "tf1 = TechnicalComplexityFactor(0, 3, 3, 0, 0, 5, 5, 2, 5, 5, 5, 0, 0)\n",
    "tf1.technical_factors()"
   ]
  },
  {
   "cell_type": "markdown",
   "id": "71819a6d",
   "metadata": {},
   "source": [
    "Adjusting for Environmental Complexity \n",
    "\n",
    "---------------------------------------------------------------"
   ]
  },
  {
   "cell_type": "code",
   "execution_count": 12,
   "id": "058e2992",
   "metadata": {},
   "outputs": [],
   "source": [
    "      ef_table = [['Factor', 'Weight', 'Assessment', 'Impact'], ['Familiar with the development process', '1.5', '4', '6'], ['Application Experience', '0.5', '3', '1.5'], ['Object oriented experience', 1, 4, 4], ['Lead analyst capability', '0.5', '0', '0'], ['Motivation', '1', '5', '5'], ['Stable requirements', '2', '1', '2'], ['Part-time staff', -1, 5, -5], ['Difficult programming language', -1, 2, -2], ['Total EFactor', '', '', '11.5'] ]"
   ]
  },
  {
   "cell_type": "code",
   "execution_count": 13,
   "id": "dec5c285",
   "metadata": {},
   "outputs": [
    {
     "name": "stdout",
     "output_type": "stream",
     "text": [
      "╒═══════════════════════════════════════╤══════════╤══════════════╤══════════╕\n",
      "│ Factor                                │ Weight   │ Assessment   │   Impact │\n",
      "╞═══════════════════════════════════════╪══════════╪══════════════╪══════════╡\n",
      "│ Familiar with the development process │ 1.5      │ 4            │      6   │\n",
      "├───────────────────────────────────────┼──────────┼──────────────┼──────────┤\n",
      "│ Application Experience                │ 0.5      │ 3            │      1.5 │\n",
      "├───────────────────────────────────────┼──────────┼──────────────┼──────────┤\n",
      "│ Object oriented experience            │ 1        │ 4            │      4   │\n",
      "├───────────────────────────────────────┼──────────┼──────────────┼──────────┤\n",
      "│ Lead analyst capability               │ 0.5      │ 0            │      0   │\n",
      "├───────────────────────────────────────┼──────────┼──────────────┼──────────┤\n",
      "│ Motivation                            │ 1        │ 5            │      5   │\n",
      "├───────────────────────────────────────┼──────────┼──────────────┼──────────┤\n",
      "│ Stable requirements                   │ 2        │ 1            │      2   │\n",
      "├───────────────────────────────────────┼──────────┼──────────────┼──────────┤\n",
      "│ Part-time staff                       │ -1       │ 5            │     -5   │\n",
      "├───────────────────────────────────────┼──────────┼──────────────┼──────────┤\n",
      "│ Difficult programming language        │ -1       │ 2            │     -2   │\n",
      "├───────────────────────────────────────┼──────────┼──────────────┼──────────┤\n",
      "│ Total EFactor                         │          │              │     11.5 │\n",
      "╘═══════════════════════════════════════╧══════════╧══════════════╧══════════╛\n"
     ]
    }
   ],
   "source": [
    "print(tabulate(ef_table, headers = 'firstrow', tablefmt = 'fancy_grid'))"
   ]
  },
  {
   "cell_type": "code",
   "execution_count": 14,
   "id": "6bd17375",
   "metadata": {},
   "outputs": [
    {
     "name": "stdout",
     "output_type": "stream",
     "text": [
      "-------------------------------------------\n",
      "EFactor for Familiar with the development process= 6.0\n",
      "EFactor for Application Experience = 1.5\n",
      "EFactor for object oriented experience = 4\n",
      "EFactor for motivation = 5\n",
      "EFactor for stable requirements = 2\n",
      "EFactor for part-time staff = -5\n",
      "EFactor for Difficulty of programming language = -2\n",
      "============================================\n",
      "Total EFactor = 11.5\n",
      "============================================\n",
      "EF = 1.4 + (-0.03* 11.5) = 1.055\n"
     ]
    }
   ],
   "source": [
    "class EnvironmentalComplexityFactor():\n",
    "\n",
    "    global total_EF\n",
    "    total_EF = 0\n",
    "\n",
    "    def __init__(self, fdp, aex, oop, lac, mot, req, pts, dpl):\n",
    "        self.fdp = fdp\n",
    "        self.aex = aex\n",
    "        self.oop = oop\n",
    "        self.lac = lac\n",
    "        self.mot = mot\n",
    "        self.req = req\n",
    "        self.pts = pts\n",
    "        self.dpl = dpl\n",
    "       \n",
    "    def environmental_factors(self):\n",
    "        print(\"-------------------------------------------\")\n",
    "        if self.fdp >= 1:\n",
    "            EnvironmentalComplexityFactor.fdp_efactor(self.fdp)\n",
    "        if self.aex >= 1:\n",
    "            EnvironmentalComplexityFactor.aex_efactor(self.aex)\n",
    "        if self.oop >= 1:\n",
    "            EnvironmentalComplexityFactor.oop_efactor(self.oop)\n",
    "        if self.lac >= 1:\n",
    "            EnvironmentalComplexityFactor.lac_efactor(self.lac)\n",
    "        if self.mot >= 1:\n",
    "            EnvironmentalComplexityFactor.mot_efactor(self.mot)\n",
    "        if self.req >= 1:\n",
    "            EnvironmentalComplexityFactor.req_efactor(self.req)\n",
    "        if self.pts >= 1:\n",
    "            EnvironmentalComplexityFactor.pts_efactor(self.pts)\n",
    "        if self.dpl >= 1:\n",
    "            EnvironmentalComplexityFactor.dpl_efactor(self.dpl)\n",
    "        \n",
    "        EnvironmentalComplexityFactor.total_efactor()\n",
    "\n",
    "    def fdp_efactor(a):\n",
    "        global total_EF\n",
    "        ef_impact = a * 1.5\n",
    "        print(\"EFactor for Familiar with the development process= {}\".format(ef_impact))\n",
    "        total_EF += ef_impact\n",
    "\n",
    "    def aex_efactor(b):\n",
    "        global total_EF\n",
    "        ef_impact = b * 0.5\n",
    "        print(\"EFactor for Application Experience = {}\".format(ef_impact))\n",
    "        total_EF += ef_impact\n",
    "\n",
    "    def oop_efactor(c):\n",
    "        global total_EF\n",
    "        ef_impact = c * 1\n",
    "        print(\"EFactor for object oriented experience = {}\".format(ef_impact))\n",
    "        total_EF += ef_impact\n",
    "        \n",
    "    def lac_efactor(d):\n",
    "        global total_EF\n",
    "        ef_impact = d * 0.5\n",
    "        print(\"EFactor for lead analyst capability = {}\".format(ef_impact))\n",
    "        total_EF += ef_impact\n",
    "        \n",
    "    def mot_efactor(e):\n",
    "        global total_EF\n",
    "        ef_impact = e * 1\n",
    "        print(\"EFactor for motivation = {}\".format(ef_impact))\n",
    "        total_EF += ef_impact\n",
    "        \n",
    "    def req_efactor(f):\n",
    "        global total_EF\n",
    "        ef_impact = f * 2\n",
    "        print(\"EFactor for stable requirements = {}\".format(ef_impact))\n",
    "        total_EF += ef_impact\n",
    "        \n",
    "    def pts_efactor(g):\n",
    "        global total_EF\n",
    "        ef_impact = g * -1\n",
    "        print(\"EFactor for part-time staff = {}\".format(ef_impact))\n",
    "        total_EF += ef_impact\n",
    "        \n",
    "    def dpl_efactor(h):\n",
    "        global total_EF\n",
    "        ef_impact = h * -1\n",
    "        print(\"EFactor for Difficulty of programming language = {}\".format(ef_impact))\n",
    "        total_EF += ef_impact     \n",
    "    \n",
    "   \n",
    "    def total_efactor():\n",
    "        print(\"============================================\")\n",
    "        print(\"Total EFactor = {}\".format(total_EF))\n",
    "        print(\"============================================\")\n",
    "        print(\"EF = 1.4 + (-0.03* 11.5) = {}\".format(1.4 + (-0.03* 11.5)))\n",
    "        \n",
    "        \n",
    "tf1 = EnvironmentalComplexityFactor(4, 3, 4, 0, 5, 1, 5, 2)\n",
    "tf1.environmental_factors()"
   ]
  },
  {
   "cell_type": "markdown",
   "id": "14957db3",
   "metadata": {},
   "source": [
    "Final Use Case Points\n",
    "\n",
    "UCP = UUCW * TCF * EF\n",
    "\n"
   ]
  },
  {
   "cell_type": "code",
   "execution_count": 19,
   "id": "17135571",
   "metadata": {},
   "outputs": [
    {
     "name": "stdout",
     "output_type": "stream",
     "text": [
      "UCP = 46 * 0.93 * 1.05 = 45.1329\n"
     ]
    }
   ],
   "source": [
    "print(\"UCP = 46 * 0.93 * 1.05 = {}\".format((total_UUCW + total_ACW) * 0.93 * 1.055))"
   ]
  },
  {
   "cell_type": "markdown",
   "id": "c89f60ee",
   "metadata": {},
   "source": [
    "# The Size of the application is 45 use case points\n"
   ]
  },
  {
   "cell_type": "raw",
   "id": "d1820459",
   "metadata": {},
   "source": [
    "To Derive Duration\n",
    "-------------------------------------------------------"
   ]
  },
  {
   "cell_type": "raw",
   "id": "40efb4ff",
   "metadata": {},
   "source": [
    "# Kirsten Ribu (2001) reports that efforts can range from 15 to 30 hours per use case point \n",
    "\n",
    "if we assume 20 hrs per use case point \n",
    "\n",
    "Total hours for developing this project will be 20 * 45 = 900 hours"
   ]
  },
  {
   "cell_type": "code",
   "execution_count": null,
   "id": "16ad409b",
   "metadata": {},
   "outputs": [],
   "source": []
  }
 ],
 "metadata": {
  "kernelspec": {
   "display_name": "Python 3 (ipykernel)",
   "language": "python",
   "name": "python3"
  },
  "language_info": {
   "codemirror_mode": {
    "name": "ipython",
    "version": 3
   },
   "file_extension": ".py",
   "mimetype": "text/x-python",
   "name": "python",
   "nbconvert_exporter": "python",
   "pygments_lexer": "ipython3",
   "version": "3.9.7"
  }
 },
 "nbformat": 4,
 "nbformat_minor": 5
}
